{
  "nbformat": 4,
  "nbformat_minor": 0,
  "metadata": {
    "kernelspec": {
      "display_name": "Python 3",
      "language": "python",
      "name": "python3"
    },
    "language_info": {
      "codemirror_mode": {
        "name": "ipython",
        "version": 3
      },
      "file_extension": ".py",
      "mimetype": "text/x-python",
      "name": "python",
      "nbconvert_exporter": "python",
      "pygments_lexer": "ipython3",
      "version": "3.8.5"
    },
    "colab": {
      "name": "spotify_recommender_remoteurl.ipynb",
      "provenance": [],
      "collapsed_sections": []
    }
  },
  "cells": [
    {
      "cell_type": "markdown",
      "metadata": {
        "id": "MrkzexUExB9L"
      },
      "source": [
        "# Building Recommender Systems with Spotify Data"
      ]
    },
    {
      "cell_type": "markdown",
      "metadata": {
        "id": "7_DffRA3XgXz"
      },
      "source": [
        "Most of us these days use Spotify or other music apps to listen to our favourite music. Have you ever wondered on what basis is the application making recommendations to you? We will build a recommendation system based on the data from Spotify. This is a working model of how recommendation works when you use the application as a guest user. "
      ]
    },
    {
      "cell_type": "markdown",
      "metadata": {
        "id": "h1C7F_WcxB9S"
      },
      "source": [
        "## Import Libraries"
      ]
    },
    {
      "cell_type": "code",
      "metadata": {
        "id": "t6lP-UOpxB9Z"
      },
      "source": [
        "import numpy as np\n",
        "import pandas as pd\n",
        "import matplotlib.pyplot as plt\n",
        "import zipfile\n",
        "import requests\n",
        "import seaborn as sns\n",
        "plt.rcParams.update({'font.size': 22})\n",
        "%matplotlib inline\n",
        "import plotly.express as px\n"
      ],
      "execution_count": 15,
      "outputs": []
    },
    {
      "cell_type": "markdown",
      "metadata": {
        "id": "wfwslBJBxB9a"
      },
      "source": [
        "## Reading the Data"
      ]
    },
    {
      "cell_type": "code",
      "metadata": {
        "id": "XA_-F2Y0naYT"
      },
      "source": [
        "# download the file contents in binary format\n",
        "r = requests.get('https://github.com/lauvshree/datasets/blob/main/spotify.csv.zip?raw=true')\n",
        "\n",
        "with open(\"spotify.csv.zip\", \"wb\") as code:\n",
        "  code.write(r.content)\n",
        "\n",
        "zf = zipfile.ZipFile(\"spotify.csv.zip\") \n",
        "\n",
        "# # now read your csv file \n",
        "spotify_data = pd.read_csv(zf.open('spotify.csv'))\n",
        "\n"
      ],
      "execution_count": 16,
      "outputs": []
    },
    {
      "cell_type": "code",
      "metadata": {
        "colab": {
          "base_uri": "https://localhost:8080/",
          "height": 662
        },
        "id": "Gt9GdxB8xB9b",
        "outputId": "fabac6b6-f40d-4d91-f77a-502d9dd2db1d"
      },
      "source": [
        "spotify_data.head(10)"
      ],
      "execution_count": 17,
      "outputs": [
        {
          "output_type": "execute_result",
          "data": {
            "text/html": [
              "<div>\n",
              "<style scoped>\n",
              "    .dataframe tbody tr th:only-of-type {\n",
              "        vertical-align: middle;\n",
              "    }\n",
              "\n",
              "    .dataframe tbody tr th {\n",
              "        vertical-align: top;\n",
              "    }\n",
              "\n",
              "    .dataframe thead th {\n",
              "        text-align: right;\n",
              "    }\n",
              "</style>\n",
              "<table border=\"1\" class=\"dataframe\">\n",
              "  <thead>\n",
              "    <tr style=\"text-align: right;\">\n",
              "      <th></th>\n",
              "      <th>acousticness</th>\n",
              "      <th>artists</th>\n",
              "      <th>danceability</th>\n",
              "      <th>duration_ms</th>\n",
              "      <th>energy</th>\n",
              "      <th>explicit</th>\n",
              "      <th>id</th>\n",
              "      <th>instrumentalness</th>\n",
              "      <th>key</th>\n",
              "      <th>liveness</th>\n",
              "      <th>loudness</th>\n",
              "      <th>mode</th>\n",
              "      <th>name</th>\n",
              "      <th>popularity</th>\n",
              "      <th>release_date</th>\n",
              "      <th>speechiness</th>\n",
              "      <th>tempo</th>\n",
              "      <th>valence</th>\n",
              "      <th>year</th>\n",
              "    </tr>\n",
              "  </thead>\n",
              "  <tbody>\n",
              "    <tr>\n",
              "      <th>0</th>\n",
              "      <td>0.991000</td>\n",
              "      <td>['Mamie Smith']</td>\n",
              "      <td>0.598</td>\n",
              "      <td>168333</td>\n",
              "      <td>0.2240</td>\n",
              "      <td>0</td>\n",
              "      <td>0cS0A1fUEUd1EW3FcF8AEI</td>\n",
              "      <td>0.000522</td>\n",
              "      <td>5</td>\n",
              "      <td>0.3790</td>\n",
              "      <td>-12.628</td>\n",
              "      <td>0</td>\n",
              "      <td>Keep A Song In Your Soul</td>\n",
              "      <td>12</td>\n",
              "      <td>1920</td>\n",
              "      <td>0.0936</td>\n",
              "      <td>149.976</td>\n",
              "      <td>0.6340</td>\n",
              "      <td>1920</td>\n",
              "    </tr>\n",
              "    <tr>\n",
              "      <th>1</th>\n",
              "      <td>0.643000</td>\n",
              "      <td>[\"Screamin' Jay Hawkins\"]</td>\n",
              "      <td>0.852</td>\n",
              "      <td>150200</td>\n",
              "      <td>0.5170</td>\n",
              "      <td>0</td>\n",
              "      <td>0hbkKFIJm7Z05H8Zl9w30f</td>\n",
              "      <td>0.026400</td>\n",
              "      <td>5</td>\n",
              "      <td>0.0809</td>\n",
              "      <td>-7.261</td>\n",
              "      <td>0</td>\n",
              "      <td>I Put A Spell On You</td>\n",
              "      <td>7</td>\n",
              "      <td>1920-01-05</td>\n",
              "      <td>0.0534</td>\n",
              "      <td>86.889</td>\n",
              "      <td>0.9500</td>\n",
              "      <td>1920</td>\n",
              "    </tr>\n",
              "    <tr>\n",
              "      <th>2</th>\n",
              "      <td>0.993000</td>\n",
              "      <td>['Mamie Smith']</td>\n",
              "      <td>0.647</td>\n",
              "      <td>163827</td>\n",
              "      <td>0.1860</td>\n",
              "      <td>0</td>\n",
              "      <td>11m7laMUgmOKqI3oYzuhne</td>\n",
              "      <td>0.000018</td>\n",
              "      <td>0</td>\n",
              "      <td>0.5190</td>\n",
              "      <td>-12.098</td>\n",
              "      <td>1</td>\n",
              "      <td>Golfing Papa</td>\n",
              "      <td>4</td>\n",
              "      <td>1920</td>\n",
              "      <td>0.1740</td>\n",
              "      <td>97.600</td>\n",
              "      <td>0.6890</td>\n",
              "      <td>1920</td>\n",
              "    </tr>\n",
              "    <tr>\n",
              "      <th>3</th>\n",
              "      <td>0.000173</td>\n",
              "      <td>['Oscar Velazquez']</td>\n",
              "      <td>0.730</td>\n",
              "      <td>422087</td>\n",
              "      <td>0.7980</td>\n",
              "      <td>0</td>\n",
              "      <td>19Lc5SfJJ5O1oaxY0fpwfh</td>\n",
              "      <td>0.801000</td>\n",
              "      <td>2</td>\n",
              "      <td>0.1280</td>\n",
              "      <td>-7.311</td>\n",
              "      <td>1</td>\n",
              "      <td>True House Music - Xavier Santos &amp; Carlos Gomi...</td>\n",
              "      <td>17</td>\n",
              "      <td>1920-01-01</td>\n",
              "      <td>0.0425</td>\n",
              "      <td>127.997</td>\n",
              "      <td>0.0422</td>\n",
              "      <td>1920</td>\n",
              "    </tr>\n",
              "    <tr>\n",
              "      <th>4</th>\n",
              "      <td>0.295000</td>\n",
              "      <td>['Mixe']</td>\n",
              "      <td>0.704</td>\n",
              "      <td>165224</td>\n",
              "      <td>0.7070</td>\n",
              "      <td>1</td>\n",
              "      <td>2hJjbsLCytGsnAHfdsLejp</td>\n",
              "      <td>0.000246</td>\n",
              "      <td>10</td>\n",
              "      <td>0.4020</td>\n",
              "      <td>-6.036</td>\n",
              "      <td>0</td>\n",
              "      <td>Xuniverxe</td>\n",
              "      <td>2</td>\n",
              "      <td>1920-10-01</td>\n",
              "      <td>0.0768</td>\n",
              "      <td>122.076</td>\n",
              "      <td>0.2990</td>\n",
              "      <td>1920</td>\n",
              "    </tr>\n",
              "    <tr>\n",
              "      <th>5</th>\n",
              "      <td>0.996000</td>\n",
              "      <td>['Mamie Smith &amp; Her Jazz Hounds']</td>\n",
              "      <td>0.424</td>\n",
              "      <td>198627</td>\n",
              "      <td>0.2450</td>\n",
              "      <td>0</td>\n",
              "      <td>3HnrHGLE9u2MjHtdobfWl9</td>\n",
              "      <td>0.799000</td>\n",
              "      <td>5</td>\n",
              "      <td>0.2350</td>\n",
              "      <td>-11.470</td>\n",
              "      <td>1</td>\n",
              "      <td>Crazy Blues - 78rpm Version</td>\n",
              "      <td>9</td>\n",
              "      <td>1920</td>\n",
              "      <td>0.0397</td>\n",
              "      <td>103.870</td>\n",
              "      <td>0.4770</td>\n",
              "      <td>1920</td>\n",
              "    </tr>\n",
              "    <tr>\n",
              "      <th>6</th>\n",
              "      <td>0.992000</td>\n",
              "      <td>['Mamie Smith']</td>\n",
              "      <td>0.782</td>\n",
              "      <td>195200</td>\n",
              "      <td>0.0573</td>\n",
              "      <td>0</td>\n",
              "      <td>5DlCyqLyX2AOVDTjjkDZ8x</td>\n",
              "      <td>0.000002</td>\n",
              "      <td>5</td>\n",
              "      <td>0.1760</td>\n",
              "      <td>-12.453</td>\n",
              "      <td>1</td>\n",
              "      <td>Don't You Advertise Your Man</td>\n",
              "      <td>5</td>\n",
              "      <td>1920</td>\n",
              "      <td>0.0592</td>\n",
              "      <td>85.652</td>\n",
              "      <td>0.4870</td>\n",
              "      <td>1920</td>\n",
              "    </tr>\n",
              "    <tr>\n",
              "      <th>7</th>\n",
              "      <td>0.996000</td>\n",
              "      <td>['Mamie Smith &amp; Her Jazz Hounds']</td>\n",
              "      <td>0.474</td>\n",
              "      <td>186173</td>\n",
              "      <td>0.2390</td>\n",
              "      <td>0</td>\n",
              "      <td>02FzJbHtqElixxCmrpSCUa</td>\n",
              "      <td>0.186000</td>\n",
              "      <td>9</td>\n",
              "      <td>0.1950</td>\n",
              "      <td>-9.712</td>\n",
              "      <td>1</td>\n",
              "      <td>Arkansas Blues</td>\n",
              "      <td>0</td>\n",
              "      <td>1920</td>\n",
              "      <td>0.0289</td>\n",
              "      <td>78.784</td>\n",
              "      <td>0.3660</td>\n",
              "      <td>1920</td>\n",
              "    </tr>\n",
              "    <tr>\n",
              "      <th>8</th>\n",
              "      <td>0.996000</td>\n",
              "      <td>['Francisco Canaro']</td>\n",
              "      <td>0.469</td>\n",
              "      <td>146840</td>\n",
              "      <td>0.2380</td>\n",
              "      <td>0</td>\n",
              "      <td>02i59gYdjlhBmbbWhf8YuK</td>\n",
              "      <td>0.960000</td>\n",
              "      <td>8</td>\n",
              "      <td>0.1490</td>\n",
              "      <td>-18.717</td>\n",
              "      <td>1</td>\n",
              "      <td>La Chacarera - Remasterizado</td>\n",
              "      <td>0</td>\n",
              "      <td>1920-07-08</td>\n",
              "      <td>0.0741</td>\n",
              "      <td>130.060</td>\n",
              "      <td>0.6210</td>\n",
              "      <td>1920</td>\n",
              "    </tr>\n",
              "    <tr>\n",
              "      <th>9</th>\n",
              "      <td>0.006820</td>\n",
              "      <td>['Meetya']</td>\n",
              "      <td>0.571</td>\n",
              "      <td>476304</td>\n",
              "      <td>0.7530</td>\n",
              "      <td>0</td>\n",
              "      <td>06NUxS2XL3efRh0bloxkHm</td>\n",
              "      <td>0.873000</td>\n",
              "      <td>8</td>\n",
              "      <td>0.0920</td>\n",
              "      <td>-6.943</td>\n",
              "      <td>1</td>\n",
              "      <td>Broken Puppet - Original Mix</td>\n",
              "      <td>0</td>\n",
              "      <td>1920-01-01</td>\n",
              "      <td>0.0446</td>\n",
              "      <td>126.993</td>\n",
              "      <td>0.1190</td>\n",
              "      <td>1920</td>\n",
              "    </tr>\n",
              "  </tbody>\n",
              "</table>\n",
              "</div>"
            ],
            "text/plain": [
              "   acousticness                            artists  ...  valence  year\n",
              "0      0.991000                    ['Mamie Smith']  ...   0.6340  1920\n",
              "1      0.643000          [\"Screamin' Jay Hawkins\"]  ...   0.9500  1920\n",
              "2      0.993000                    ['Mamie Smith']  ...   0.6890  1920\n",
              "3      0.000173                ['Oscar Velazquez']  ...   0.0422  1920\n",
              "4      0.295000                           ['Mixe']  ...   0.2990  1920\n",
              "5      0.996000  ['Mamie Smith & Her Jazz Hounds']  ...   0.4770  1920\n",
              "6      0.992000                    ['Mamie Smith']  ...   0.4870  1920\n",
              "7      0.996000  ['Mamie Smith & Her Jazz Hounds']  ...   0.3660  1920\n",
              "8      0.996000               ['Francisco Canaro']  ...   0.6210  1920\n",
              "9      0.006820                         ['Meetya']  ...   0.1190  1920\n",
              "\n",
              "[10 rows x 19 columns]"
            ]
          },
          "metadata": {},
          "execution_count": 17
        }
      ]
    },
    {
      "cell_type": "code",
      "metadata": {
        "colab": {
          "base_uri": "https://localhost:8080/"
        },
        "id": "MXyILzW9xB9c",
        "outputId": "05de7952-a3d6-4fd2-97ef-7702a06028a7"
      },
      "source": [
        "spotify_data.info()"
      ],
      "execution_count": 18,
      "outputs": [
        {
          "output_type": "stream",
          "name": "stdout",
          "text": [
            "<class 'pandas.core.frame.DataFrame'>\n",
            "RangeIndex: 174389 entries, 0 to 174388\n",
            "Data columns (total 19 columns):\n",
            " #   Column            Non-Null Count   Dtype  \n",
            "---  ------            --------------   -----  \n",
            " 0   acousticness      174389 non-null  float64\n",
            " 1   artists           174389 non-null  object \n",
            " 2   danceability      174389 non-null  float64\n",
            " 3   duration_ms       174389 non-null  int64  \n",
            " 4   energy            174389 non-null  float64\n",
            " 5   explicit          174389 non-null  int64  \n",
            " 6   id                174389 non-null  object \n",
            " 7   instrumentalness  174389 non-null  float64\n",
            " 8   key               174389 non-null  int64  \n",
            " 9   liveness          174389 non-null  float64\n",
            " 10  loudness          174389 non-null  float64\n",
            " 11  mode              174389 non-null  int64  \n",
            " 12  name              174389 non-null  object \n",
            " 13  popularity        174389 non-null  int64  \n",
            " 14  release_date      174389 non-null  object \n",
            " 15  speechiness       174389 non-null  float64\n",
            " 16  tempo             174389 non-null  float64\n",
            " 17  valence           174389 non-null  float64\n",
            " 18  year              174389 non-null  int64  \n",
            "dtypes: float64(9), int64(6), object(4)\n",
            "memory usage: 25.3+ MB\n"
          ]
        }
      ]
    },
    {
      "cell_type": "markdown",
      "metadata": {
        "id": "b7WNuGkFxB9e"
      },
      "source": [
        "## Exploratory Data Analysis"
      ]
    },
    {
      "cell_type": "markdown",
      "metadata": {
        "id": "7h6w-26Rpl5Q"
      },
      "source": [
        "### Plot the data according the popularity rating"
      ]
    },
    {
      "cell_type": "code",
      "metadata": {
        "colab": {
          "base_uri": "https://localhost:8080/",
          "height": 386
        },
        "id": "Wng-AlJNxB9e",
        "outputId": "d95e3f82-c4ad-4ac8-a2bc-0f065d605734"
      },
      "source": [
        "sns.displot(spotify_data['popularity'])"
      ],
      "execution_count": 19,
      "outputs": [
        {
          "output_type": "execute_result",
          "data": {
            "text/plain": [
              "<seaborn.axisgrid.FacetGrid at 0x7fd65d4a00d0>"
            ]
          },
          "metadata": {},
          "execution_count": 19
        },
        {
          "output_type": "display_data",
          "data": {
            "image/png": "[encoded data removed]",
            "text/plain": [
              "<Figure size 360x360 with 1 Axes>"
            ]
          },
          "metadata": {
            "needs_background": "light"
          }
        }
      ]
    },
    {
      "cell_type": "markdown",
      "metadata": {
        "id": "SE_GK8VrxB9e"
      },
      "source": [
        "### Music Over Time\n",
        "\n",
        "Visualize the songs over a period of time. We will observe the number of songs in each decade."
      ]
    },
    {
      "cell_type": "code",
      "metadata": {
        "id": "MjYKtMxaxB9f"
      },
      "source": [
        "def get_decade(year):\n",
        "    \n",
        "    period_start = int(year/10) * 10\n",
        "    decade = '{}s'.format(period_start)\n",
        "    \n",
        "    return decade\n",
        "\n",
        "spotify_data['decade'] = spotify_data['year'].apply(get_decade)"
      ],
      "execution_count": 20,
      "outputs": []
    },
    {
      "cell_type": "code",
      "metadata": {
        "colab": {
          "base_uri": "https://localhost:8080/",
          "height": 498
        },
        "id": "d4BKTiS5xB9f",
        "outputId": "6227adb3-f45d-408c-971c-4f1c0a16b6a5"
      },
      "source": [
        "sns.set(rc={'figure.figsize':(11 ,6)})\n",
        "sns.countplot(spotify_data['decade'])"
      ],
      "execution_count": 21,
      "outputs": [
        {
          "output_type": "stream",
          "name": "stderr",
          "text": [
            "/usr/local/lib/python3.7/dist-packages/seaborn/_decorators.py:43: FutureWarning:\n",
            "\n",
            "Pass the following variable as a keyword arg: x. From version 0.12, the only valid positional argument will be `data`, and passing other arguments without an explicit keyword will result in an error or misinterpretation.\n",
            "\n"
          ]
        },
        {
          "output_type": "execute_result",
          "data": {
            "text/plain": [
              "<matplotlib.axes._subplots.AxesSubplot at 0x7fd653682a50>"
            ]
          },
          "metadata": {},
          "execution_count": 21
        },
        {
          "output_type": "display_data",
          "data": {
            "image/png": "[encoded data removed]",
            "text/plain": [
              "<Figure size 792x432 with 1 Axes>"
            ]
          },
          "metadata": {}
        }
      ]
    },
    {
      "cell_type": "markdown",
      "metadata": {
        "id": "6Q2wDviOxB9h"
      },
      "source": [
        "### Getting the most popular songs"
      ]
    },
    {
      "cell_type": "markdown",
      "metadata": {
        "id": "0rtuPlCEu-Jq"
      },
      "source": [
        "Return the first 10 rows ordered by column `popularity` in descending order."
      ]
    },
    {
      "cell_type": "code",
      "metadata": {
        "id": "txYsP3FzxB9h",
        "colab": {
          "base_uri": "https://localhost:8080/",
          "height": 612
        },
        "outputId": "e53095ca-306d-4ec4-c04f-6793e3e7c79c"
      },
      "source": [
        "top10_genres = spotify_data.nlargest(10, 'popularity')\n",
        "top10_genres"
      ],
      "execution_count": null,
      "outputs": [
        {
          "output_type": "execute_result",
          "data": {
            "text/html": [
              "<div>\n",
              "<style scoped>\n",
              "    .dataframe tbody tr th:only-of-type {\n",
              "        vertical-align: middle;\n",
              "    }\n",
              "\n",
              "    .dataframe tbody tr th {\n",
              "        vertical-align: top;\n",
              "    }\n",
              "\n",
              "    .dataframe thead th {\n",
              "        text-align: right;\n",
              "    }\n",
              "</style>\n",
              "<table border=\"1\" class=\"dataframe\">\n",
              "  <thead>\n",
              "    <tr style=\"text-align: right;\">\n",
              "      <th></th>\n",
              "      <th>acousticness</th>\n",
              "      <th>artists</th>\n",
              "      <th>danceability</th>\n",
              "      <th>duration_ms</th>\n",
              "      <th>energy</th>\n",
              "      <th>explicit</th>\n",
              "      <th>id</th>\n",
              "      <th>instrumentalness</th>\n",
              "      <th>key</th>\n",
              "      <th>liveness</th>\n",
              "      <th>loudness</th>\n",
              "      <th>mode</th>\n",
              "      <th>name</th>\n",
              "      <th>popularity</th>\n",
              "      <th>release_date</th>\n",
              "      <th>speechiness</th>\n",
              "      <th>tempo</th>\n",
              "      <th>valence</th>\n",
              "      <th>year</th>\n",
              "      <th>decade</th>\n",
              "    </tr>\n",
              "  </thead>\n",
              "  <tbody>\n",
              "    <tr>\n",
              "      <th>20062</th>\n",
              "      <td>0.7210</td>\n",
              "      <td>['Olivia Rodrigo']</td>\n",
              "      <td>0.585</td>\n",
              "      <td>242014</td>\n",
              "      <td>0.436</td>\n",
              "      <td>1</td>\n",
              "      <td>7lPN2DXiMsVn7XUKtOW1CS</td>\n",
              "      <td>0.000013</td>\n",
              "      <td>10</td>\n",
              "      <td>0.1050</td>\n",
              "      <td>-8.761</td>\n",
              "      <td>1</td>\n",
              "      <td>drivers license</td>\n",
              "      <td>100</td>\n",
              "      <td>2021-01-08</td>\n",
              "      <td>0.0601</td>\n",
              "      <td>143.874</td>\n",
              "      <td>0.132</td>\n",
              "      <td>2021</td>\n",
              "      <td>2020s</td>\n",
              "    </tr>\n",
              "    <tr>\n",
              "      <th>19862</th>\n",
              "      <td>0.2210</td>\n",
              "      <td>['24kGoldn', 'iann dior']</td>\n",
              "      <td>0.700</td>\n",
              "      <td>140526</td>\n",
              "      <td>0.722</td>\n",
              "      <td>1</td>\n",
              "      <td>3tjFYV6RSFtuktYl3ZtYcq</td>\n",
              "      <td>0.000000</td>\n",
              "      <td>7</td>\n",
              "      <td>0.2720</td>\n",
              "      <td>-3.558</td>\n",
              "      <td>0</td>\n",
              "      <td>Mood (feat. iann dior)</td>\n",
              "      <td>96</td>\n",
              "      <td>2020-07-24</td>\n",
              "      <td>0.0369</td>\n",
              "      <td>90.989</td>\n",
              "      <td>0.756</td>\n",
              "      <td>2020</td>\n",
              "      <td>2020s</td>\n",
              "    </tr>\n",
              "    <tr>\n",
              "      <th>19866</th>\n",
              "      <td>0.4680</td>\n",
              "      <td>['Ariana Grande']</td>\n",
              "      <td>0.737</td>\n",
              "      <td>172325</td>\n",
              "      <td>0.802</td>\n",
              "      <td>1</td>\n",
              "      <td>35mvY5S1H3J2QZyna3TFe0</td>\n",
              "      <td>0.000000</td>\n",
              "      <td>0</td>\n",
              "      <td>0.0931</td>\n",
              "      <td>-4.771</td>\n",
              "      <td>1</td>\n",
              "      <td>positions</td>\n",
              "      <td>96</td>\n",
              "      <td>2020-10-30</td>\n",
              "      <td>0.0878</td>\n",
              "      <td>144.015</td>\n",
              "      <td>0.682</td>\n",
              "      <td>2020</td>\n",
              "      <td>2020s</td>\n",
              "    </tr>\n",
              "    <tr>\n",
              "      <th>19886</th>\n",
              "      <td>0.4010</td>\n",
              "      <td>['Bad Bunny', 'Jhay Cortez']</td>\n",
              "      <td>0.731</td>\n",
              "      <td>205090</td>\n",
              "      <td>0.573</td>\n",
              "      <td>1</td>\n",
              "      <td>47EiUVwUp4C9fGccaPuUCS</td>\n",
              "      <td>0.000052</td>\n",
              "      <td>4</td>\n",
              "      <td>0.1130</td>\n",
              "      <td>-10.059</td>\n",
              "      <td>0</td>\n",
              "      <td>DÁKITI</td>\n",
              "      <td>95</td>\n",
              "      <td>2020-10-30</td>\n",
              "      <td>0.0544</td>\n",
              "      <td>109.928</td>\n",
              "      <td>0.145</td>\n",
              "      <td>2020</td>\n",
              "      <td>2020s</td>\n",
              "    </tr>\n",
              "    <tr>\n",
              "      <th>19976</th>\n",
              "      <td>0.2120</td>\n",
              "      <td>['KAROL G']</td>\n",
              "      <td>0.863</td>\n",
              "      <td>178947</td>\n",
              "      <td>0.666</td>\n",
              "      <td>1</td>\n",
              "      <td>7vrJn5hDSXRmdXoR30KgF1</td>\n",
              "      <td>0.000493</td>\n",
              "      <td>1</td>\n",
              "      <td>0.1030</td>\n",
              "      <td>-4.158</td>\n",
              "      <td>0</td>\n",
              "      <td>BICHOTA</td>\n",
              "      <td>95</td>\n",
              "      <td>2020-10-23</td>\n",
              "      <td>0.1520</td>\n",
              "      <td>163.908</td>\n",
              "      <td>0.838</td>\n",
              "      <td>2020</td>\n",
              "      <td>2020s</td>\n",
              "    </tr>\n",
              "    <tr>\n",
              "      <th>19868</th>\n",
              "      <td>0.2370</td>\n",
              "      <td>['Ariana Grande']</td>\n",
              "      <td>0.830</td>\n",
              "      <td>173711</td>\n",
              "      <td>0.585</td>\n",
              "      <td>1</td>\n",
              "      <td>6Im9k8u9iIzKMrmV7BWtlF</td>\n",
              "      <td>0.000000</td>\n",
              "      <td>0</td>\n",
              "      <td>0.2480</td>\n",
              "      <td>-6.476</td>\n",
              "      <td>1</td>\n",
              "      <td>34+35</td>\n",
              "      <td>94</td>\n",
              "      <td>2020-10-30</td>\n",
              "      <td>0.0940</td>\n",
              "      <td>109.978</td>\n",
              "      <td>0.485</td>\n",
              "      <td>2020</td>\n",
              "      <td>2020s</td>\n",
              "    </tr>\n",
              "    <tr>\n",
              "      <th>19870</th>\n",
              "      <td>0.1900</td>\n",
              "      <td>['CJ']</td>\n",
              "      <td>0.711</td>\n",
              "      <td>123429</td>\n",
              "      <td>0.598</td>\n",
              "      <td>1</td>\n",
              "      <td>5vGLcdRuSbUhD8ScwsGSdA</td>\n",
              "      <td>0.000000</td>\n",
              "      <td>3</td>\n",
              "      <td>0.1500</td>\n",
              "      <td>-7.621</td>\n",
              "      <td>0</td>\n",
              "      <td>Whoopty</td>\n",
              "      <td>94</td>\n",
              "      <td>2020-08-20</td>\n",
              "      <td>0.1820</td>\n",
              "      <td>140.175</td>\n",
              "      <td>0.737</td>\n",
              "      <td>2020</td>\n",
              "      <td>2020s</td>\n",
              "    </tr>\n",
              "    <tr>\n",
              "      <th>19872</th>\n",
              "      <td>0.2130</td>\n",
              "      <td>['The Kid LAROI']</td>\n",
              "      <td>0.662</td>\n",
              "      <td>161385</td>\n",
              "      <td>0.413</td>\n",
              "      <td>1</td>\n",
              "      <td>27OeeYzk6klgBh83TSvGMA</td>\n",
              "      <td>0.000000</td>\n",
              "      <td>0</td>\n",
              "      <td>0.1340</td>\n",
              "      <td>-7.357</td>\n",
              "      <td>1</td>\n",
              "      <td>WITHOUT YOU</td>\n",
              "      <td>94</td>\n",
              "      <td>2020-11-06</td>\n",
              "      <td>0.0299</td>\n",
              "      <td>93.005</td>\n",
              "      <td>0.467</td>\n",
              "      <td>2020</td>\n",
              "      <td>2020s</td>\n",
              "    </tr>\n",
              "    <tr>\n",
              "      <th>19876</th>\n",
              "      <td>0.2180</td>\n",
              "      <td>['Billie Eilish']</td>\n",
              "      <td>0.889</td>\n",
              "      <td>174321</td>\n",
              "      <td>0.340</td>\n",
              "      <td>0</td>\n",
              "      <td>54bFM56PmE4YLRnqpW6Tha</td>\n",
              "      <td>0.130000</td>\n",
              "      <td>11</td>\n",
              "      <td>0.0550</td>\n",
              "      <td>-7.773</td>\n",
              "      <td>0</td>\n",
              "      <td>Therefore I Am</td>\n",
              "      <td>94</td>\n",
              "      <td>2020-11-12</td>\n",
              "      <td>0.0697</td>\n",
              "      <td>94.009</td>\n",
              "      <td>0.716</td>\n",
              "      <td>2020</td>\n",
              "      <td>2020s</td>\n",
              "    </tr>\n",
              "    <tr>\n",
              "      <th>19928</th>\n",
              "      <td>0.0303</td>\n",
              "      <td>['Bad Bunny', 'ROSALÍA']</td>\n",
              "      <td>0.856</td>\n",
              "      <td>203201</td>\n",
              "      <td>0.618</td>\n",
              "      <td>0</td>\n",
              "      <td>2XIc1pqjXV3Cr2BQUGNBck</td>\n",
              "      <td>0.000000</td>\n",
              "      <td>7</td>\n",
              "      <td>0.0866</td>\n",
              "      <td>-4.892</td>\n",
              "      <td>1</td>\n",
              "      <td>LA NOCHE DE ANOCHE</td>\n",
              "      <td>94</td>\n",
              "      <td>2020-11-27</td>\n",
              "      <td>0.2860</td>\n",
              "      <td>81.993</td>\n",
              "      <td>0.391</td>\n",
              "      <td>2020</td>\n",
              "      <td>2020s</td>\n",
              "    </tr>\n",
              "  </tbody>\n",
              "</table>\n",
              "</div>"
            ],
            "text/plain": [
              "       acousticness                       artists  ...  year  decade\n",
              "20062        0.7210            ['Olivia Rodrigo']  ...  2021   2020s\n",
              "19862        0.2210     ['24kGoldn', 'iann dior']  ...  2020   2020s\n",
              "19866        0.4680             ['Ariana Grande']  ...  2020   2020s\n",
              "19886        0.4010  ['Bad Bunny', 'Jhay Cortez']  ...  2020   2020s\n",
              "19976        0.2120                   ['KAROL G']  ...  2020   2020s\n",
              "19868        0.2370             ['Ariana Grande']  ...  2020   2020s\n",
              "19870        0.1900                        ['CJ']  ...  2020   2020s\n",
              "19872        0.2130             ['The Kid LAROI']  ...  2020   2020s\n",
              "19876        0.2180             ['Billie Eilish']  ...  2020   2020s\n",
              "19928        0.0303      ['Bad Bunny', 'ROSALÍA']  ...  2020   2020s\n",
              "\n",
              "[10 rows x 20 columns]"
            ]
          },
          "metadata": {},
          "execution_count": 15
        }
      ]
    },
    {
      "cell_type": "markdown",
      "metadata": {
        "id": "Eb7zegc5vXfS"
      },
      "source": [
        "We will only consider the numeric data for clustering. Scale the features of **numeric** data type and cluster them."
      ]
    },
    {
      "cell_type": "code",
      "metadata": {
        "id": "Nb9IKRcHxB9j",
        "colab": {
          "base_uri": "https://localhost:8080/"
        },
        "outputId": "d7650722-9539-4cd6-a254-678a01a84264"
      },
      "source": [
        "from sklearn.cluster import KMeans\n",
        "from sklearn.preprocessing import StandardScaler\n",
        "\n",
        "scaler = StandardScaler()\n",
        "num_dtypes = spotify_data.select_dtypes(np.number)\n",
        "num_dtypes.drop(['year'], axis=1,inplace=True)\n",
        "scaled_df = scaler.fit_transform(num_dtypes)\n"
      ],
      "execution_count": 22,
      "outputs": [
        {
          "output_type": "stream",
          "name": "stderr",
          "text": [
            "/usr/local/lib/python3.7/dist-packages/pandas/core/frame.py:4174: SettingWithCopyWarning:\n",
            "\n",
            "\n",
            "A value is trying to be set on a copy of a slice from a DataFrame\n",
            "\n",
            "See the caveats in the documentation: https://pandas.pydata.org/pandas-docs/stable/user_guide/indexing.html#returning-a-view-versus-a-copy\n",
            "\n"
          ]
        }
      ]
    },
    {
      "cell_type": "code",
      "metadata": {
        "colab": {
          "base_uri": "https://localhost:8080/"
        },
        "id": "E37i8WLUMU4l",
        "outputId": "bd17d5d9-1d33-4d36-9af4-bc35cdde7e78"
      },
      "source": [
        "kmclustering = KMeans(n_clusters=10, random_state=25)\n",
        "kmclustering.fit(scaled_df)"
      ],
      "execution_count": 23,
      "outputs": [
        {
          "output_type": "execute_result",
          "data": {
            "text/plain": [
              "KMeans(algorithm='auto', copy_x=True, init='k-means++', max_iter=300,\n",
              "       n_clusters=10, n_init=10, n_jobs=None, precompute_distances='auto',\n",
              "       random_state=25, tol=0.0001, verbose=0)"
            ]
          },
          "metadata": {},
          "execution_count": 23
        }
      ]
    },
    {
      "cell_type": "markdown",
      "metadata": {
        "id": "EUexumHsTXDJ"
      },
      "source": [
        "### Calculating Inertia - \n",
        "\n",
        "Inertia is a measure of how well a dataset has been clustered by K-Means. \n",
        "\n",
        "A good model is one with low inertia and a low number of clusters. \n",
        "\n",
        "The K-means algorithm aims to choose centroids that minimise the inertia, or within-cluster sum-of-squares criterion.\n",
        "\n",
        "\n"
      ]
    },
    {
      "cell_type": "markdown",
      "metadata": {
        "id": "FH2nB09t3XEd"
      },
      "source": [
        "This cell below takes about 50 mins to 1 hour to run. The purpose of this is to determine, the ideal number of clusters."
      ]
    },
    {
      "cell_type": "code",
      "metadata": {
        "id": "fZ9NnQFD5Ody"
      },
      "source": [
        "wss =[] \n",
        "for i in range(1,51):\n",
        "    kmclustering = KMeans(n_clusters=i, random_state=25)\n",
        "    kmclustering.fit(scaled_df)\n",
        "    wss.append(kmclustering.inertia_)\n",
        "\n"
      ],
      "execution_count": 25,
      "outputs": []
    },
    {
      "cell_type": "markdown",
      "metadata": {
        "id": "i3gB_g9s3oJp"
      },
      "source": [
        "### Elbow curve\n",
        "Let's plot the inertia for different cluster sizes, to see the ideal number of clusters we should choose."
      ]
    },
    {
      "cell_type": "code",
      "metadata": {
        "colab": {
          "base_uri": "https://localhost:8080/",
          "height": 405
        },
        "id": "qPt0I6y7VT4_",
        "outputId": "df822de1-d71b-4b4b-ad63-b50801404b89"
      },
      "source": [
        "plt.plot(range(1,51), wss)"
      ],
      "execution_count": 26,
      "outputs": [
        {
          "output_type": "execute_result",
          "data": {
            "text/plain": [
              "[<matplotlib.lines.Line2D at 0x7fd64d0adbd0>]"
            ]
          },
          "metadata": {},
          "execution_count": 26
        },
        {
          "output_type": "display_data",
          "data": {
            "image/png": "[encoded data removed]",
            "text/plain": [
              "<Figure size 792x432 with 1 Axes>"
            ]
          },
          "metadata": {}
        }
      ]
    },
    {
      "cell_type": "code",
      "metadata": {
        "id": "y8t-hc807wJt"
      },
      "source": [
        "kmclustering = KMeans(n_clusters=20, random_state=25)\n",
        "kmclustering.fit(scaled_df)\n",
        "spotify_data['cluster'] = kmclustering.predict(scaled_df)"
      ],
      "execution_count": 27,
      "outputs": []
    },
    {
      "cell_type": "code",
      "metadata": {
        "colab": {
          "base_uri": "https://localhost:8080/"
        },
        "id": "IF5SFeRXwXO7",
        "outputId": "d56d6441-ac9c-4bcf-dd64-eecef91f5261"
      },
      "source": [
        "pd.unique(spotify_data['cluster'])"
      ],
      "execution_count": 28,
      "outputs": [
        {
          "output_type": "execute_result",
          "data": {
            "text/plain": [
              "array([ 3,  8, 13,  7,  6, 18, 12,  9, 16,  5,  0,  4, 15, 10, 19,  1, 17,\n",
              "       14,  2, 11], dtype=int32)"
            ]
          },
          "metadata": {},
          "execution_count": 28
        }
      ]
    },
    {
      "cell_type": "code",
      "metadata": {
        "id": "Ms3lrubPHH6-"
      },
      "source": [
        "def getRecommendations(song):\n",
        "  cluster_group = spotify_data.loc[spotify_data['name'] == song]['cluster']\n",
        "  \n",
        "  if(cluster_group.empty == False):\n",
        "    cluster = cluster_group.values[0]\n",
        "    same_cluster_songs = spotify_data.loc[(spotify_data['cluster'] == cluster) & (spotify_data['name'] != song)]\n",
        "    # recommendations = same_cluster_songs.nlargest(5, 'popularity')[['name','artists','year',]]\n",
        "    recommendations = same_cluster_songs.sample(5)[['name','artists','year',]]\n",
        "    print(recommendations)\n",
        "  else:\n",
        "    recommendations = spotify_data.nlargest(5, 'popularity')[['name','artists','year',]]\n",
        "    print(recommendations)"
      ],
      "execution_count": 29,
      "outputs": []
    },
    {
      "cell_type": "code",
      "metadata": {
        "colab": {
          "base_uri": "https://localhost:8080/"
        },
        "id": "EqR0S45Rowud",
        "outputId": "dca586e6-dbf4-4bc3-bf53-215b0944cf06"
      },
      "source": [
        "getRecommendations(\"WITHOUT YOU\")"
      ],
      "execution_count": 30,
      "outputs": [
        {
          "output_type": "stream",
          "name": "stdout",
          "text": [
            "                                  name  ...  year\n",
            "93618   Staring At The Sun (feat. SZA)  ...  2019\n",
            "138595                   I'm A Soldier  ...  1998\n",
            "33823                      Get the Gat  ...  1992\n",
            "93956           CÓMO SE SIENTE - Remix  ...  2021\n",
            "108542                       Live Free  ...  2011\n",
            "\n",
            "[5 rows x 3 columns]\n"
          ]
        }
      ]
    },
    {
      "cell_type": "code",
      "metadata": {
        "colab": {
          "base_uri": "https://localhost:8080/"
        },
        "id": "ke9oXC8do_67",
        "outputId": "058dfd84-509e-4f29-defe-3a59f3b07714"
      },
      "source": [
        "getRecommendations(\"Beat It\")"
      ],
      "execution_count": 31,
      "outputs": [
        {
          "output_type": "stream",
          "name": "stdout",
          "text": [
            "                      name                      artists  year\n",
            "150133      Backstreet Luv               ['Curved Air']  1976\n",
            "14598       Love Come Down  ['Evelyn \"Champagne\" King']  1993\n",
            "69686            Ma and Pa                 ['Fishbone']  1985\n",
            "131468      Don't You Know            ['Stevie Wonder']  1962\n",
            "14272   Friday I'm in Love                 ['The Cure']  1992\n"
          ]
        }
      ]
    },
    {
      "cell_type": "code",
      "metadata": {
        "id": "huPwqCfm34qS"
      },
      "source": [
        ""
      ],
      "execution_count": null,
      "outputs": []
    }
  ]
}